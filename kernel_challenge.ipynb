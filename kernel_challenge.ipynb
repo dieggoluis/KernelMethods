{
 "cells": [
  {
   "cell_type": "code",
   "execution_count": 3,
   "metadata": {
    "collapsed": false,
    "deletable": true,
    "editable": true
   },
   "outputs": [],
   "source": [
    "%matplotlib inline\n",
    "import numpy as np\n",
    "import pandas as pd\n",
    "import cvxopt\n",
    "import itertools\n",
    "import matplotlib.pyplot as plt\n",
    "from sklearn.model_selection import StratifiedKFold, KFold, train_test_split\n",
    "from scipy.optimize import fmin_l_bfgs_b as lbfgs\n",
    "from sklearn.metrics.pairwise import cosine_similarity\n",
    "from sklearn.base import BaseEstimator\n",
    "import substring_kernel as subker\n",
    "import regex"
   ]
  },
  {
   "cell_type": "code",
   "execution_count": 7,
   "metadata": {
    "collapsed": true,
    "deletable": true,
    "editable": true
   },
   "outputs": [],
   "source": [
    "def _get_data(filename, header=None, index_col=None):\n",
    "    if header is None:\n",
    "        return pd.read_csv(filename, header=header).values.tolist()\n",
    "    else:\n",
    "        return pd.read_csv(filename).values.tolist()"
   ]
  },
  {
   "cell_type": "code",
   "execution_count": 8,
   "metadata": {
    "collapsed": true,
    "deletable": true,
    "editable": true
   },
   "outputs": [],
   "source": [
    "train_files = ['data/Xtr0.csv', 'data/Xtr1.csv', 'data/Xtr2.csv']\n",
    "test_files = ['data/Xte0.csv', 'data/Xte1.csv', 'data/Xte2.csv']\n",
    "label_files = ['data/Ytr0.csv', 'data/Ytr1.csv', 'data/Ytr2.csv']\n",
    "\n",
    "\n",
    "train_dna = np.asarray([_get_data(filename) for filename in train_files])\n",
    "test_dna = np.asarray([_get_data(filename) for filename in test_files])\n",
    "\n",
    "label_dna = np.asarray([np.asarray(_get_data(filename, header=True))[\n",
    "                       :, 1] for filename in label_files])"
   ]
  },
  {
   "cell_type": "code",
   "execution_count": 9,
   "metadata": {
    "collapsed": false,
    "deletable": true,
    "editable": true
   },
   "outputs": [
    {
     "data": {
      "text/plain": [
       "(3, 2000, 1)"
      ]
     },
     "execution_count": 9,
     "metadata": {},
     "output_type": "execute_result"
    }
   ],
   "source": [
    "train_dna.shape"
   ]
  },
  {
   "cell_type": "code",
   "execution_count": 10,
   "metadata": {
    "collapsed": false,
    "deletable": true,
    "editable": true
   },
   "outputs": [
    {
     "data": {
      "text/plain": [
       "(3, 1000, 1)"
      ]
     },
     "execution_count": 10,
     "metadata": {},
     "output_type": "execute_result"
    }
   ],
   "source": [
    "test_dna.shape"
   ]
  },
  {
   "cell_type": "code",
   "execution_count": 11,
   "metadata": {
    "collapsed": false,
    "deletable": true,
    "editable": true
   },
   "outputs": [
    {
     "data": {
      "text/plain": [
       "(3, 2000)"
      ]
     },
     "execution_count": 11,
     "metadata": {},
     "output_type": "execute_result"
    }
   ],
   "source": [
    "label_dna.shape"
   ]
  },
  {
   "cell_type": "code",
   "execution_count": 12,
   "metadata": {
    "collapsed": false,
    "deletable": true,
    "editable": true
   },
   "outputs": [
    {
     "data": {
      "text/plain": [
       "(array([1000.,    0.,    0.,    0.,    0.,    0.,    0.,    0.,    0.,\n",
       "        1000.]),\n",
       " array([0. , 0.1, 0.2, 0.3, 0.4, 0.5, 0.6, 0.7, 0.8, 0.9, 1. ]),\n",
       " <a list of 10 Patch objects>)"
      ]
     },
     "execution_count": 12,
     "metadata": {},
     "output_type": "execute_result"
    },
    {
     "data": {
      "image/png": "[encoded data removed]",
      "text/plain": [
       "<matplotlib.figure.Figure at 0x7f0c6044b4e0>"
      ]
     },
     "metadata": {},
     "output_type": "display_data"
    }
   ],
   "source": [
    "plt.figure(figsize=(15, 3))\n",
    "plt.subplot(131)\n",
    "plt.hist(label_dna[0])\n",
    "plt.subplot(132)\n",
    "plt.hist(label_dna[1])\n",
    "plt.subplot(133)\n",
    "plt.hist(label_dna[2])"
   ]
  },
  {
   "cell_type": "code",
   "execution_count": 13,
   "metadata": {
    "collapsed": true,
    "deletable": true,
    "editable": true
   },
   "outputs": [],
   "source": [
    "dna_dict2 = np.array([\"\".join(item) for item in itertools.product(\"ATCG\", repeat=2)])\n",
    "dna_dict3 = np.array([\"\".join(item) for item in itertools.product(\"ATCG\", repeat=3)])\n",
    "\n",
    "dna_dict = dna_dict3"
   ]
  },
  {
   "cell_type": "markdown",
   "metadata": {
    "deletable": true,
    "editable": true
   },
   "source": [
    "- The following function qp allows to solve a quadratic problem of the form:\n",
    "\n",
    "$$\n",
    "\\left\\{\n",
    "  \\begin{array}{cll}\n",
    "  &\\min_{(x)} \\frac{1}{2}x^{\\top} P x + q^\\top x\n",
    "  \\\\\n",
    "   & \\textrm{s.t.}\\; A x = b, 0 \\leq x \\leq C.\n",
    "  \\end{array}\n",
    "  \\right.\n",
    "$$\n",
    "\n",
    "See documentation: http://cvxopt.org/userguide/coneprog.html#quadratic-programming"
   ]
  },
  {
   "cell_type": "code",
   "execution_count": 14,
   "metadata": {
    "collapsed": true,
    "deletable": true,
    "editable": true
   },
   "outputs": [],
   "source": [
    "def qp(P, q, A, b, C, verbose=True):\n",
    "    n = P.shape[0]\n",
    "    P = cvxopt.matrix(P)\n",
    "    q = cvxopt.matrix(q)\n",
    "    G = cvxopt.matrix(np.concatenate(\n",
    "        [np.diag(-np.ones(n)), np.diag(np.ones(n))], axis=0))\n",
    "    h = cvxopt.matrix(np.concatenate([np.zeros(n), C * np.ones(n)], axis=0))\n",
    "\n",
    "    # Solve QP problem\n",
    "    cvxopt.solvers.options['show_progress'] = verbose\n",
    "    if A is None or b is None:\n",
    "        solution = cvxopt.solvers.qp(P, q, G, h, solver='mosec')\n",
    "    else:\n",
    "        A = cvxopt.matrix(A)\n",
    "        b = cvxopt.matrix(b)\n",
    "        solution = cvxopt.solvers.qp(P, q, G, h, A, b, solver='mosec')\n",
    "\n",
    "    return np.ravel(solution['x'])"
   ]
  },
  {
   "cell_type": "code",
   "execution_count": 15,
   "metadata": {
    "collapsed": true,
    "deletable": true,
    "editable": true
   },
   "outputs": [],
   "source": [
    "def normalize_kernel(kernel):\n",
    "    \"\"\"\n",
    "    Normalizes a kernel: kernel[x, y] by doing:\n",
    "        kernel[x, y] / sqrt(kernel[x, x] * kernel[y, y])\n",
    "    \"\"\"\n",
    "\n",
    "    nkernel = np.copy(kernel).astype(float)\n",
    "\n",
    "    assert nkernel.ndim == 2\n",
    "    assert nkernel.shape[0] == nkernel.shape[1]\n",
    "\n",
    "    for i in range(nkernel.shape[0]):\n",
    "        for j in range(i + 1, nkernel.shape[0]):\n",
    "            q = np.sqrt(nkernel[i, i] * nkernel[j, j])\n",
    "            if q > 0:\n",
    "                nkernel[i, j] = float(nkernel[i, j])/q\n",
    "                nkernel[j, i] = nkernel[i, j]  # symmetry\n",
    "\n",
    "    # finally, set diagonal elements to 1\n",
    "    np.fill_diagonal(nkernel, 1.)\n",
    "\n",
    "    return nkernel"
   ]
  },
  {
   "cell_type": "markdown",
   "metadata": {
    "deletable": true,
    "editable": true
   },
   "source": [
    "## Kernels"
   ]
  },
  {
   "cell_type": "code",
   "execution_count": 16,
   "metadata": {
    "collapsed": true,
    "deletable": true,
    "editable": true
   },
   "outputs": [],
   "source": [
    "def spectrum_kernel (chainsA, chainsB):\n",
    "    chainsA = np.atleast_1d(chainsA)\n",
    "    chainsB = np.atleast_1d(chainsB)\n",
    "    matA = np.array([[chain[0].count(word) for chain in chainsA] for word in dna_dict])\n",
    "    matB = np.array([[chain[0].count(word) for chain in chainsB] for word in dna_dict])\n",
    "    return np.squeeze(np.dot(matA.T, matB))"
   ]
  },
  {
   "cell_type": "code",
   "execution_count": 17,
   "metadata": {
    "collapsed": true,
    "deletable": true,
    "editable": true
   },
   "outputs": [],
   "source": [
    "def spectrum_norm_kernel (chainsA, chainsB):\n",
    "    chainsA = np.atleast_1d(chainsA)\n",
    "    chainsB = np.atleast_1d(chainsB)\n",
    "    matA = np.array([[chain[0].count(word) for chain in chainsA] for word in dna_dict])\n",
    "    matB = np.array([[chain[0].count(word) for chain in chainsB] for word in dna_dict])\n",
    "    return cosine_similarity(matA.T, matB.T)"
   ]
  },
  {
   "cell_type": "code",
   "execution_count": 18,
   "metadata": {
    "collapsed": true,
    "deletable": true,
    "editable": true
   },
   "outputs": [],
   "source": [
    "def mismatch_kernel(chainsA, chainsB, k=3, m=0):\n",
    "    chainsA = np.atleast_1d(chainsA)\n",
    "    chainsB = np.atleast_1d(chainsB)\n",
    "\n",
    "    NVocab = {}\n",
    "    vocab = np.array([\"\".join(item) for item in itertools.product(\"ATCG\", repeat=k)])\n",
    "    n_vocab = len(vocab)\n",
    "    idx = dict(zip(vocab, range(len(vocab))))\n",
    "    all_seq = \"\".join(vocab)\n",
    "    for kmer in vocab:\n",
    "        neighbors = regex.findall(\"(\" + kmer + \")\" + \"{s<=\" + str(m) + \"}\", all_seq, overlapped=True)\n",
    "        NVocab[kmer] = list(np.unique(neighbors))\n",
    "        \n",
    "    specA = []\n",
    "    for chain in chainsA:\n",
    "        spec = np.zeros(n_vocab)\n",
    "        n = len(chain[0])\n",
    "        for offset in range(n - k):\n",
    "            kmer = chain[0][offset: offset + k]\n",
    "            for nb in NVocab[kmer]:\n",
    "                spec[idx[kmer]] += 1\n",
    "        specA.append(spec)\n",
    "    specA = np.asarray(specA)\n",
    "        \n",
    "    specB = []\n",
    "    for chain in chainsB:\n",
    "        spec = np.zeros(n_vocab)\n",
    "        n = len(chain[0])\n",
    "        for offset in range(n - k):\n",
    "            kmer = chain[0][offset: offset + k]\n",
    "            for nb in NVocab[kmer]:\n",
    "                spec[idx[kmer]] += 1\n",
    "        specB.append(spec)\n",
    "    specB = np.asarray(specB)\n",
    "        \n",
    "    return cosine_similarity(specA, specB)"
   ]
  },
  {
   "cell_type": "code",
   "execution_count": 19,
   "metadata": {
    "collapsed": true
   },
   "outputs": [],
   "source": [
    "def substringKernel_cpp_nystrom(chainsA, chainsB, lbda=0.1, word_size=4, sample_size=100):\n",
    "    chainsA = np.atleast_1d(chainsA)\n",
    "    sample = np.random.choice(chainsA.size, sample_size, replace=False)\n",
    "    res = subker.getKernel(lbda, word_size, chainsA, chainsA[sample]).reshape(\n",
    "        [chainsA.size, sample_size])\n",
    "    mat = res[sample]\n",
    "    w, v = np.linalg.eig(mat)\n",
    "    w = w.real\n",
    "    v = v.real\n",
    "    ind = w > 1e-6\n",
    "    v1 = v[:, ind]\n",
    "    w1 = np.diag(1 / w[ind])\n",
    "    almost_inverse = v1.dot(w1.dot(np.transpose(v1)))\n",
    "    res = res.dot(almost_inverse.dot(np.transpose(res)))\n",
    "    return np.squeeze(res)"
   ]
  },
  {
   "cell_type": "code",
   "execution_count": 21,
   "metadata": {
    "collapsed": true
   },
   "outputs": [],
   "source": [
    "def substringKernel_cpp(chainsA, chainsB ,lbda = 0.1, word_size = 4):\n",
    "    chainsA = np.atleast_1d(chainsA)\n",
    "    chainsB = np.atleast_1d(chainsB)\n",
    "    res = subker.getKernel(lbda, word_size, chainsA, chainsB).reshape([chainsA.size, chainsB.size])\n",
    "    return np.squeeze(res)"
   ]
  },
  {
   "cell_type": "markdown",
   "metadata": {
    "deletable": true,
    "editable": true
   },
   "source": [
    "## Test setup"
   ]
  },
  {
   "cell_type": "code",
   "execution_count": 22,
   "metadata": {
    "collapsed": true,
    "deletable": true,
    "editable": true
   },
   "outputs": [],
   "source": [
    "# test using random split (20% of the data used as validation set)\n",
    "def test_random_split(clf):\n",
    "    scores = []\n",
    "    for idx_data in range(3):\n",
    "        X = train_dna[idx_data]\n",
    "        y = label_dna[idx_data]\n",
    "        X_train, X_test, y_train, y_test = train_test_split(\n",
    "            X, y, test_size=.2, stratify=y, random_state=42)\n",
    "\n",
    "        clf.fit(X_train, y_train)\n",
    "        y_pred = clf.predict(X_test)\n",
    "        scores.append(clf.score(y_test, y_pred))\n",
    "    return scores"
   ]
  },
  {
   "cell_type": "code",
   "execution_count": 23,
   "metadata": {
    "collapsed": true,
    "deletable": true,
    "editable": true
   },
   "outputs": [],
   "source": [
    "# test using 3 fold crossvalidation\n",
    "def test_crossval(clf):\n",
    "    scores = []\n",
    "    for idx_data in range(3):\n",
    "        X = train_dna[idx_data]\n",
    "        y = label_dna[idx_data]\n",
    "        skf = StratifiedKFold(n_splits=3, shuffle=True, random_state=42)\n",
    "        cv_scores = []\n",
    "        for train_index, test_index in skf.split(X, y):\n",
    "            X_train, X_test = X[train_index], X[test_index]\n",
    "            y_train, y_test = y[train_index], y[test_index]\n",
    "            \n",
    "            clf.fit(X_train, y_train)\n",
    "            y_pred = clf.predict(X_test)\n",
    "            cv_scores.append(clf.score(y_test, y_pred))\n",
    "        scores.append(np.mean(cv_scores))\n",
    "    return scores"
   ]
  },
  {
   "cell_type": "markdown",
   "metadata": {
    "deletable": true,
    "editable": true
   },
   "source": [
    "## SVM"
   ]
  },
  {
   "cell_type": "code",
   "execution_count": 24,
   "metadata": {
    "collapsed": true,
    "deletable": true,
    "editable": true
   },
   "outputs": [],
   "source": [
    "class SVM (BaseEstimator):\n",
    "    def __init__(self, lbda=1.0, kernel='spectrum_kernel', **kargs):\n",
    "        self.lbda = lbda\n",
    "        self.kargs = kargs\n",
    "        self.kernel_ = kernel\n",
    "        if kernel == 'mismatch_kernel':\n",
    "            self.kernel = mismatch_kernel\n",
    "        elif kernel == 'spectrum_kernel':\n",
    "            self.kernel = spectrum_kernel\n",
    "        elif kernel == 'spectrum_norm_kernel':\n",
    "            self.kernel = spectrum_norm_kernel\n",
    "        elif kernel == 'substring_kernel':\n",
    "            self.kernel = substringKernel_cpp_nystrom\n",
    "            self.test_kernel = substringKernel_cpp\n",
    "        else:\n",
    "            print ('Invalid kernel')\n",
    "        \n",
    " \n",
    "    def _dual_solver(self, K, C, y):\n",
    "        n = K.shape[0]\n",
    "        P = np.zeros([n, n])\n",
    "        for i in range(n):\n",
    "            for j in range(n):\n",
    "                P[i][j] = K[i][j] * y[i] * y[j]\n",
    "        q = -np.ones(n)\n",
    "        A = np.reshape(1. * y, (1, n))\n",
    "        b = .0\n",
    "        alpha = qp(P, q, A, b, C, verbose=False)\n",
    "        return alpha\n",
    " \n",
    "    def fit(self, X_train, y_train):\n",
    "       \n",
    "        self.X_train = X_train\n",
    "        self.y_train = y_train\n",
    "        self.y_train[self.y_train == 0] = -1\n",
    " \n",
    "        n = X_train.shape[0]\n",
    "        C = 1 / (2 * self.lbda * n)\n",
    "        K = self.kernel(X_train, X_train, **self.kargs)\n",
    " \n",
    "        # solve optimization problem\n",
    "        self._alpha = self._dual_solver(K, C, self.y_train)\n",
    " \n",
    "        # index for support vector\n",
    "        idx = np.argmax(\n",
    "            np.min([np.abs(self._alpha), np.abs(self._alpha - C)], axis=0))\n",
    "        self.bias = self._alpha.dot(K[:, idx] * self.y_train) - self.y_train[idx]\n",
    "        return self\n",
    " \n",
    "    def predict(self, X_test):\n",
    "        if self.kernel_ != 'substring_kernel':\n",
    "            K = self.kernel(self.X_train, X_test, **self.kargs)\n",
    "        else:\n",
    "            K = self.test_kernel(self.X_train, X_test, **self.kargs)\n",
    "        y_pred = np.sign(np.dot(K.T, self._alpha * self.y_train) - self.bias).astype(int)\n",
    "        y_pred[y_pred < 0] = 0\n",
    "        return y_pred\n",
    "        \n",
    "    def score(self, y_true, y_pred):\n",
    "        return np.sum(y_pred == y_true).astype(float) / np.size(y_true)"
   ]
  },
  {
   "cell_type": "markdown",
   "metadata": {
    "deletable": true,
    "editable": true
   },
   "source": [
    "## Testing SVM"
   ]
  },
  {
   "cell_type": "markdown",
   "metadata": {
    "deletable": true,
    "editable": true
   },
   "source": [
    "### Mismatch kernel"
   ]
  },
  {
   "cell_type": "code",
   "execution_count": 19,
   "metadata": {
    "collapsed": true,
    "deletable": true,
    "editable": true
   },
   "outputs": [],
   "source": [
    "def test_mismatch_kernel(k, m):\n",
    "    params = [.001, .0001, .00001, .000001]\n",
    "    svm_scores = {}\n",
    "    for lbda in params:\n",
    "        print (\"lbda %.6f ...\" % lbda)\n",
    "        clf = SVM(lbda, kernel='mismatch_kernel', k=k, m=m)\n",
    "        svm_scores[lbda] = test_crossval(clf)\n",
    "        print (svm_scores[lbda])"
   ]
  },
  {
   "cell_type": "code",
   "execution_count": 20,
   "metadata": {
    "collapsed": false,
    "deletable": true,
    "editable": true
   },
   "outputs": [
    {
     "name": "stdout",
     "output_type": "stream",
     "text": [
      "lbda 0.0010 ...\n",
      "[0.6629938321555088, 0.7360174545803289, 0.6004852157546768]\n",
      "lbda 0.0001 ...\n",
      "[0.6685008361655068, 0.7540010069950189, 0.6159992327656999]\n",
      "lbda 0.0000 ...\n",
      "[0.6640008271744798, 0.7474959989930049, 0.6219902537267806]\n",
      "lbda 0.0000 ...\n",
      "[0.6579933226639815, 0.7529925134715554, 0.6119877362392332]\n"
     ]
    }
   ],
   "source": [
    "test_mismatch_kernel(k=3, m=0)"
   ]
  },
  {
   "cell_type": "code",
   "execution_count": 21,
   "metadata": {
    "collapsed": false,
    "deletable": true,
    "editable": true
   },
   "outputs": [
    {
     "name": "stdout",
     "output_type": "stream",
     "text": [
      "lbda 0.0010 ...\n",
      "[0.6629938321555088, 0.7360174545803289, 0.6004852157546768]\n",
      "lbda 0.0001 ...\n",
      "[0.6685008361655068, 0.7540010069950189, 0.6159992327656999]\n",
      "lbda 0.0000 ...\n",
      "[0.6640008271744798, 0.7474959989930049, 0.6219902537267806]\n",
      "lbda 0.0000 ...\n",
      "[0.6579933226639815, 0.7529925134715554, 0.6119877362392332]\n"
     ]
    }
   ],
   "source": [
    "test_mismatch_kernel(k=3, m=1)"
   ]
  },
  {
   "cell_type": "code",
   "execution_count": 26,
   "metadata": {
    "collapsed": false,
    "deletable": true,
    "editable": true
   },
   "outputs": [
    {
     "name": "stdout",
     "output_type": "stream",
     "text": [
      "lbda 0.001000 ...\n",
      "[0.7155149161137185, 0.8375021728315142, 0.6125017232801664]\n",
      "lbda 0.000100 ...\n",
      "[0.7060084036131941, 0.8404916892940845, 0.6089907272542003]\n",
      "lbda 0.000010 ...\n",
      "[0.6905018791246337, 0.833988179796563, 0.6004957052861245]\n",
      "lbda 0.000001 ...\n",
      "[0.6930058801316287, 0.8280001558444671, 0.6064882247516978]\n"
     ]
    }
   ],
   "source": [
    "test_mismatch_kernel(k=4, m=0)"
   ]
  },
  {
   "cell_type": "code",
   "execution_count": 25,
   "metadata": {
    "collapsed": false,
    "deletable": true,
    "editable": true
   },
   "outputs": [
    {
     "name": "stdout",
     "output_type": "stream",
     "text": [
      "lbda 0.001000 ...\n",
      "[0.7155149161137185, 0.8375021728315142, 0.6125017232801664]\n",
      "lbda 0.000100 ...\n",
      "[0.7060084036131941, 0.8404916892940845, 0.6089907272542003]\n",
      "lbda 0.000010 ...\n",
      "[0.6905018791246337, 0.833988179796563, 0.6004957052861245]\n",
      "lbda 0.000001 ...\n",
      "[0.6930058801316287, 0.8280001558444671, 0.6064882247516978]\n"
     ]
    }
   ],
   "source": [
    "test_mismatch_kernel(k=4, m=1)"
   ]
  },
  {
   "cell_type": "code",
   "execution_count": 25,
   "metadata": {
    "collapsed": false,
    "deletable": true,
    "editable": true
   },
   "outputs": [
    {
     "name": "stdout",
     "output_type": "stream",
     "text": [
      "lbda 0.001000 ...\n",
      "[0.7155149161137185, 0.8375021728315142, 0.6125017232801664]\n",
      "lbda 0.000100 ...\n",
      "[0.7060084036131941, 0.8404916892940845, 0.6089907272542003]\n",
      "lbda 0.000010 ...\n",
      "[0.6905018791246337, 0.833988179796563, 0.6004957052861245]\n",
      "lbda 0.000001 ...\n",
      "[0.6930058801316287, 0.8280001558444671, 0.6064882247516978]\n"
     ]
    }
   ],
   "source": [
    "test_mismatch_kernel(k=4, m=2)"
   ]
  },
  {
   "cell_type": "code",
   "execution_count": 27,
   "metadata": {
    "collapsed": false,
    "deletable": true,
    "editable": true
   },
   "outputs": [
    {
     "name": "stdout",
     "output_type": "stream",
     "text": [
      "lbda 0.001000 ...\n",
      "[0.7355094615573657, 0.8535166903430377, 0.605502208795622]\n",
      "lbda 0.000100 ...\n",
      "[0.7139774505043966, 0.8315051578524632, 0.6015012018006031]\n",
      "lbda 0.000010 ...\n",
      "[0.6844943746141352, 0.8045275814736893, 0.5895056733380087]\n",
      "lbda 0.000001 ...\n",
      "[0.6779983576390762, 0.8045275814736893, 0.5874826922731115]\n"
     ]
    }
   ],
   "source": [
    "test_mismatch_kernel(k=5, m=0)"
   ]
  },
  {
   "cell_type": "code",
   "execution_count": 26,
   "metadata": {
    "collapsed": false,
    "deletable": true,
    "editable": true
   },
   "outputs": [
    {
     "name": "stdout",
     "output_type": "stream",
     "text": [
      "lbda 0.001000 ...\n",
      "[0.7355094615573657, 0.8535166903430377, 0.605502208795622]\n",
      "lbda 0.000100 ...\n",
      "[0.7139774505043966, 0.8315051578524632, 0.6015012018006031]\n",
      "lbda 0.000010 ...\n",
      "[0.6844943746141352, 0.8045275814736893, 0.5895056733380087]\n",
      "lbda 0.000001 ...\n",
      "[0.6779983576390762, 0.8045275814736893, 0.5874826922731115]\n"
     ]
    }
   ],
   "source": [
    "test_mismatch_kernel(k=5, m=1)"
   ]
  },
  {
   "cell_type": "code",
   "execution_count": 27,
   "metadata": {
    "collapsed": false,
    "deletable": true,
    "editable": true
   },
   "outputs": [
    {
     "name": "stdout",
     "output_type": "stream",
     "text": [
      "lbda 0.001000 ...\n",
      "[0.7355094615573657, 0.8535166903430377, 0.605502208795622]\n",
      "lbda 0.000100 ...\n",
      "[0.7139774505043966, 0.8315051578524632, 0.6015012018006031]\n",
      "lbda 0.000010 ...\n",
      "[0.6844943746141352, 0.8045275814736893, 0.5895056733380087]\n",
      "lbda 0.000001 ...\n",
      "[0.6779983576390762, 0.8045275814736893, 0.5874826922731115]\n"
     ]
    }
   ],
   "source": [
    "test_mismatch_kernel(k=5, m=2)"
   ]
  },
  {
   "cell_type": "code",
   "execution_count": 29,
   "metadata": {
    "collapsed": false,
    "deletable": true,
    "editable": true
   },
   "outputs": [
    {
     "name": "stdout",
     "output_type": "stream",
     "text": [
      "lbda 0.001000 ...\n",
      "[0.7374964785144426, 0.8510186833540127, 0.6155017292741843]\n",
      "lbda 0.000100 ...\n",
      "[0.7064744385103666, 0.8505061948175721, 0.5845036653419887]\n",
      "lbda 0.000010 ...\n",
      "[0.7019744295193396, 0.8510066953180727, 0.5864996733260207]\n",
      "lbda 0.000001 ...\n",
      "[0.7019744295193396, 0.8510066953180727, 0.5864996733260207]\n"
     ]
    }
   ],
   "source": [
    "test_mismatch_kernel(k=6, m=0)"
   ]
  },
  {
   "cell_type": "code",
   "execution_count": 28,
   "metadata": {
    "collapsed": false,
    "deletable": true,
    "editable": true
   },
   "outputs": [
    {
     "name": "stdout",
     "output_type": "stream",
     "text": [
      "lbda 0.001000 ...\n",
      "[0.7374964785144426, 0.8510186833540127, 0.6155017292741843]\n",
      "lbda 0.000100 ...\n",
      "[0.7064744385103666, 0.8505061948175721, 0.5845036653419887]\n",
      "lbda 0.000010 ...\n",
      "[0.7019744295193396, 0.8510066953180727, 0.5864996733260207]\n",
      "lbda 0.000001 ...\n",
      "[0.7019744295193396, 0.8510066953180727, 0.5864996733260207]\n"
     ]
    }
   ],
   "source": [
    "test_mismatch_kernel(k=6, m=1)"
   ]
  },
  {
   "cell_type": "markdown",
   "metadata": {
    "deletable": true,
    "editable": true
   },
   "source": [
    "### Spectrum Kernel"
   ]
  },
  {
   "cell_type": "code",
   "execution_count": 31,
   "metadata": {
    "collapsed": false,
    "deletable": true,
    "editable": true
   },
   "outputs": [
    {
     "name": "stdout",
     "output_type": "stream",
     "text": [
      "lbda 0.001000 ...\n",
      "[0.6714933496370622, 0.7390114665563767, 0.6144812477147806]\n",
      "lbda 0.000100 ...\n",
      "[0.6745023466580352, 0.753502004999011, 0.628481775188362]\n",
      "lbda 0.000010 ...\n",
      "[0.6654933376490263, 0.7514985044925164, 0.6244792696888505]\n",
      "lbda 0.000001 ...\n",
      "[0.6644968321615029, 0.7544955134775494, 0.6139777502052951]\n"
     ]
    }
   ],
   "source": [
    "# modified spectrum kernel\n",
    "params = [.001, .0001, .00001, .000001]\n",
    "svm_scores = {}\n",
    "for lbda in params:\n",
    "    print (\"lbda %.6f ...\" % lbda)\n",
    "    clf = SVM(lbda, kernel='spectrum_norm_kernel')\n",
    "    svm_scores[lbda] = test_crossval(clf)\n",
    "    print (svm_scores[lbda])"
   ]
  },
  {
   "cell_type": "code",
   "execution_count": 28,
   "metadata": {
    "collapsed": false,
    "deletable": true,
    "editable": true
   },
   "outputs": [
    {
     "name": "stdout",
     "output_type": "stream",
     "text": [
      "lbda 0.001000 ...\n",
      "[0.6709973446500394, 0.7539965114815415, 0.6204842567118015]\n",
      "lbda 0.000100 ...\n",
      "[0.6740003476530423, 0.7510099920279562, 0.6154897412382443]\n",
      "lbda 0.000010 ...\n",
      "[0.6720028411645179, 0.7515074955194715, 0.6159902417387447]\n",
      "lbda 0.000001 ...\n",
      "[0.6730038421655188, 0.7515074955194715, 0.6154912397427368]\n"
     ]
    }
   ],
   "source": [
    "params = [.001, .0001, .00001, .000001]\n",
    "svm_scores = {}\n",
    "for lbda in params:\n",
    "    print (\"lbda %.6f ...\" % lbda)\n",
    "    clf = SVM(lbda, kernel='spectrum_kernel')\n",
    "    svm_scores[lbda] = test_crossval(clf)\n",
    "    print (svm_scores[lbda])"
   ]
  },
  {
   "cell_type": "markdown",
   "metadata": {},
   "source": [
    "### Substring Kernel"
   ]
  },
  {
   "cell_type": "code",
   "execution_count": 25,
   "metadata": {
    "collapsed": false
   },
   "outputs": [
    {
     "name": "stdout",
     "output_type": "stream",
     "text": [
      "lbda 0.001000 ...\n",
      "[0.7075099051146955, 0.8154846463229698, 0.6250082417747089]\n"
     ]
    }
   ],
   "source": [
    "params = [.001]\n",
    "svm_scores = {}\n",
    "for lbda in params:\n",
    "    print (\"lbda %.6f ...\" % lbda)\n",
    "    clf = SVM(lbda, kernel='substring_kernel')\n",
    "    svm_scores[lbda] = test_crossval(clf)\n",
    "    print (svm_scores[lbda])"
   ]
  },
  {
   "cell_type": "markdown",
   "metadata": {
    "deletable": true,
    "editable": true
   },
   "source": [
    "  ## Kernel logistic regression"
   ]
  },
  {
   "cell_type": "code",
   "execution_count": 27,
   "metadata": {
    "collapsed": false,
    "deletable": true,
    "editable": true
   },
   "outputs": [],
   "source": [
    "class KLR (BaseEstimator):\n",
    "    def __init__(self, lbda=1.0, kernel='spectrum_kernel', **kargs):\n",
    "        self.lbda = lbda\n",
    "        self.kargs = kargs\n",
    "        self.kernel_ = kernel\n",
    "        if kernel == 'mismatch_kernel':\n",
    "            self.kernel = mismatch_kernel\n",
    "        elif kernel == 'spectrum_kernel':\n",
    "            self.kernel = spectrum_kernel\n",
    "        elif kernel == 'spectrum_norm_kernel':\n",
    "            self.kernel = spectrum_norm_kernel\n",
    "        elif kernel == 'substring_kernel':\n",
    "            self.kernel = substringKernel_cpp_nystrom\n",
    "            self.test_kernel = substringKernel_cpp\n",
    "        else:\n",
    "            print ('Invalid kernel')\n",
    "\n",
    "    def _rgloss(self, x):\n",
    "        return np.log(1. + np.exp(-x))\n",
    "\n",
    "    def _sigmoid(self, x):\n",
    "        return 1. / (1. + np.exp(-x))\n",
    "\n",
    "    def _rgloss_prime(self, x):\n",
    "        return -self._sigmoid(-x)\n",
    "\n",
    "    def _f(self, x):\n",
    "        n = self._K.shape[0]\n",
    "        reg = 0.5 * self.lbda * np.dot(np.dot(self._K, x), x)\n",
    "        fx = np.sum(self._rgloss(self._y * np.dot(self._K, x)) / n) + reg\n",
    "        return fx\n",
    "\n",
    "    def _fprime(self, x):\n",
    "        n = self._K.shape[0]\n",
    "        yKx = self._y * np.dot(self._K, x)\n",
    "        grad = np.dot(self._K.T, (self._y * self._rgloss_prime(yKx))\n",
    "                      ) / n + self.lbda * np.dot(self._K, x)\n",
    "        return grad\n",
    "\n",
    "    def _solver(self, x0):\n",
    "        alpha, _, _ = lbfgs(self._f, x0, fprime=self._fprime)\n",
    "        return alpha\n",
    "\n",
    "    def fit(self, X_train, y_train):\n",
    "        self.X_train = X_train\n",
    "        self.y_train = np.copy(y_train)\n",
    "        self.y_train[self.y_train == 0] = -1\n",
    "        self._y = self.y_train\n",
    "\n",
    "        n = X_train.shape[0]\n",
    "        self._K = self.kernel(X_train, X_train, **self.kargs)\n",
    "\n",
    "        # solve optimization problem\n",
    "        x0 = np.zeros(n)\n",
    "        self._alpha = self._solver(x0)\n",
    "\n",
    "        return self\n",
    "\n",
    "    def predict(self, X_test):\n",
    "        if self.kernel_ != 'substring_kernel':\n",
    "            K = self.kernel(self.X_train, X_test, **self.kargs)\n",
    "        else:\n",
    "            K = self.test_kernel(self.X_train, X_test, **self.kargs)\n",
    "        y_pred = np.sign(np.dot(K.T, self._alpha)).astype(int)\n",
    "        y_pred[y_pred < 0] = 0\n",
    "        return y_pred\n",
    "\n",
    "    def score(self, y_true, y_pred):\n",
    "        return np.sum(y_pred == y_true).astype(float) / len(y_true)"
   ]
  },
  {
   "cell_type": "markdown",
   "metadata": {
    "deletable": true,
    "editable": true
   },
   "source": [
    "## Testing Kernel Logistic Regression"
   ]
  },
  {
   "cell_type": "markdown",
   "metadata": {
    "deletable": true,
    "editable": true
   },
   "source": [
    "### Mismatch kernel"
   ]
  },
  {
   "cell_type": "code",
   "execution_count": 34,
   "metadata": {
    "collapsed": true,
    "deletable": true,
    "editable": true
   },
   "outputs": [],
   "source": [
    "def test_mismatch_kernel(k, m):\n",
    "    params = [.001, .0001, .00001, .000001]\n",
    "    klr_scores = {}\n",
    "    for lbda in params:\n",
    "        print (\"lbda %.6f ...\" % lbda)\n",
    "        clf = KLR(lbda, kernel='mismatch_kernel', k=k, m=m)\n",
    "        klr_scores[lbda] = test_crossval(clf)\n",
    "        print (klr_scores[lbda])"
   ]
  },
  {
   "cell_type": "code",
   "execution_count": 35,
   "metadata": {
    "collapsed": false,
    "deletable": true,
    "editable": true
   },
   "outputs": [
    {
     "name": "stdout",
     "output_type": "stream",
     "text": [
      "lbda 0.001000 ...\n",
      "[0.6665003326679972, 0.7445154735573897, 0.6129842417267567]\n",
      "lbda 0.000100 ...\n",
      "[0.6644953336570103, 0.753502004999011, 0.6189782596968225]\n",
      "lbda 0.000010 ...\n",
      "[0.6634958311605018, 0.7569935204665743, 0.6149862437287587]\n",
      "lbda 0.000001 ...\n",
      "[0.6630058201914489, 0.7574910239580898, 0.6084887282492072]\n"
     ]
    }
   ],
   "source": [
    "test_mismatch_kernel(3, 0)"
   ]
  },
  {
   "cell_type": "code",
   "execution_count": 36,
   "metadata": {
    "collapsed": false,
    "deletable": true,
    "editable": true
   },
   "outputs": [
    {
     "name": "stdout",
     "output_type": "stream",
     "text": [
      "lbda 0.001000 ...\n",
      "[0.6670008331684979, 0.7445154735573897, 0.6129842417267567]\n",
      "lbda 0.000100 ...\n",
      "[0.6639948331565098, 0.753502004999011, 0.6194787601973231]\n",
      "lbda 0.000010 ...\n",
      "[0.6644953336570104, 0.7569935204665743, 0.6139852427277577]\n",
      "lbda 0.000001 ...\n",
      "[0.662999826173479, 0.7574925224625823, 0.6139807472142801]\n"
     ]
    }
   ],
   "source": [
    "test_mismatch_kernel(3, 1)"
   ]
  },
  {
   "cell_type": "code",
   "execution_count": 37,
   "metadata": {
    "collapsed": false,
    "deletable": true,
    "editable": true
   },
   "outputs": [
    {
     "name": "stdout",
     "output_type": "stream",
     "text": [
      "lbda 0.001000 ...\n",
      "[0.6665003326679972, 0.7445154735573897, 0.6129842417267567]\n",
      "lbda 0.000100 ...\n",
      "[0.6639978301654949, 0.7540025054995114, 0.6189782596968225]\n",
      "lbda 0.000010 ...\n",
      "[0.6634943326560093, 0.7574940209670747, 0.6199792606978236]\n",
      "lbda 0.000001 ...\n",
      "[0.6630043216869564, 0.7579900259540978, 0.6134787482092872]\n"
     ]
    }
   ],
   "source": [
    "test_mismatch_kernel(3, 2)"
   ]
  },
  {
   "cell_type": "code",
   "execution_count": 38,
   "metadata": {
    "collapsed": false,
    "deletable": true,
    "editable": true
   },
   "outputs": [
    {
     "name": "stdout",
     "output_type": "stream",
     "text": [
      "lbda 0.001000 ...\n",
      "[0.7150069230907555, 0.8490136843430256, 0.6174947402492313]\n",
      "lbda 0.000100 ...\n",
      "[0.7145034255812699, 0.8539962117806429, 0.6199942457427486]\n",
      "lbda 0.000010 ...\n",
      "[0.7070064076052099, 0.8379936823050596, 0.6084977192761625]\n",
      "lbda 0.000001 ...\n",
      "[0.6975088861316406, 0.8289921658185131, 0.6134997272721824]\n"
     ]
    }
   ],
   "source": [
    "test_mismatch_kernel(4, 1)"
   ]
  },
  {
   "cell_type": "code",
   "execution_count": 39,
   "metadata": {
    "collapsed": false,
    "deletable": true,
    "editable": true
   },
   "outputs": [
    {
     "name": "stdout",
     "output_type": "stream",
     "text": [
      "lbda 0.001000 ...\n",
      "[0.7150069230907555, 0.8490136843430256, 0.6184957412502322]\n",
      "lbda 0.000100 ...\n",
      "[0.7155014295732859, 0.8539962117806429, 0.6189932447417478]\n",
      "lbda 0.000010 ...\n",
      "[0.7090069111027195, 0.8394951838065611, 0.6074997152841464]\n",
      "lbda 0.000001 ...\n",
      "[0.6965108821396248, 0.8259996523469577, 0.6109957262651874]\n"
     ]
    }
   ],
   "source": [
    "test_mismatch_kernel(4, 2)"
   ]
  },
  {
   "cell_type": "code",
   "execution_count": 40,
   "metadata": {
    "collapsed": false,
    "deletable": true,
    "editable": true
   },
   "outputs": [
    {
     "name": "stdout",
     "output_type": "stream",
     "text": [
      "lbda 0.001000 ...\n",
      "[0.744501987016957, 0.85601319882757, 0.6240072407737078]\n",
      "lbda 0.000100 ...\n",
      "[0.7259954565343788, 0.8525111938285591, 0.6110017202831574]\n",
      "lbda 0.000010 ...\n",
      "[0.6944893995792198, 0.8305176433918948, 0.5940056823290356]\n",
      "lbda 0.000001 ...\n",
      "[0.6799913686141231, 0.8260221299143455, 0.583489177800555]\n"
     ]
    }
   ],
   "source": [
    "test_mismatch_kernel(5, 1)"
   ]
  },
  {
   "cell_type": "code",
   "execution_count": 41,
   "metadata": {
    "collapsed": false,
    "deletable": true,
    "editable": true
   },
   "outputs": [
    {
     "name": "stdout",
     "output_type": "stream",
     "text": [
      "lbda 0.001000 ...\n",
      "[0.7399944855034676, 0.8510126893360427, 0.6150042257826689]\n",
      "lbda 0.000100 ...\n",
      "[0.7394879909849971, 0.8735007462552372, 0.6140002277726829]\n",
      "lbda 0.000010 ...\n",
      "[0.7294749839660019, 0.8670047292801785, 0.6059967152781524]\n",
      "lbda 0.000001 ...\n",
      "[0.722966978955003, 0.8670047292801785, 0.5930031828235421]\n"
     ]
    }
   ],
   "source": [
    "test_mismatch_kernel(6, 1)"
   ]
  },
  {
   "cell_type": "markdown",
   "metadata": {
    "deletable": true,
    "editable": true
   },
   "source": [
    "### Spectrum Normalized Kernel"
   ]
  },
  {
   "cell_type": "code",
   "execution_count": 81,
   "metadata": {
    "collapsed": false,
    "deletable": true,
    "editable": true
   },
   "outputs": [
    {
     "name": "stdout",
     "output_type": "stream",
     "text": [
      "lbda 0.0100 ...\n",
      "[0.6630043216869564, 0.6975028921136706, 0.5929807052561543]\n",
      "lbda 0.0010 ...\n",
      "[0.6679958401515288, 0.7490109870349392, 0.6194757631883381]\n",
      "lbda 0.0001 ...\n",
      "[0.6729903556250861, 0.7539965114815415, 0.6214732696768624]\n",
      "lbda 0.0000 ...\n",
      "[0.6749893606181031, 0.7544970119820421, 0.6209787631943321]\n",
      "lbda 0.0000 ...\n",
      "[0.6694943446440452, 0.7589985194775615, 0.6189752626878375]\n"
     ]
    }
   ],
   "source": [
    "# modified spectrum kernel using cosine similarity\n",
    "params = [.01, .001, .0001, .00001, .000001]\n",
    "klr_scores = {}\n",
    "for lbda in params:\n",
    "    print (\"lbda %.4f ...\" % lbda)\n",
    "    clf = KLR(lbda, kernel='spectrum_norm_kernel')\n",
    "    klr_scores[lbda] = test_crossval(clf)\n",
    "    print (klr_scores[lbda])"
   ]
  },
  {
   "cell_type": "code",
   "execution_count": 31,
   "metadata": {
    "collapsed": false,
    "deletable": true,
    "editable": true
   },
   "outputs": [
    {
     "name": "stdout",
     "output_type": "stream",
     "text": [
      "lbda 0.0100 ...\n"
     ]
    },
    {
     "name": "stderr",
     "output_type": "stream",
     "text": [
      "/usr/lib/python3.6/site-packages/ipykernel_launcher.py:15: RuntimeWarning: overflow encountered in exp\n",
      "  from ipykernel import kernelapp as app\n",
      "/usr/lib/python3.6/site-packages/ipykernel_launcher.py:18: RuntimeWarning: overflow encountered in exp\n"
     ]
    },
    {
     "name": "stdout",
     "output_type": "stream",
     "text": [
      "[0.558058058058058, 0.5, 0.5]\n",
      "lbda 0.0010 ...\n",
      "[0.5570570570570571, 0.5, 0.5]\n",
      "lbda 0.0001 ...\n",
      "[0.5570570570570571, 0.5, 0.5]\n",
      "lbda 0.0000 ...\n",
      "[0.5575575575575575, 0.5, 0.5]\n",
      "lbda 0.0000 ...\n",
      "[0.5570570570570571, 0.5, 0.5]\n"
     ]
    }
   ],
   "source": [
    "# modified spectrum kernel using cosine similarity\n",
    "params = [.01, .001, .0001, .00001, .000001]\n",
    "klr_scores = {}\n",
    "for lbda in params:\n",
    "    print (\"lbda %.4f ...\" % lbda)\n",
    "    clf = KLR(lbda, kernel='spectrum_kernel')\n",
    "    klr_scores[lbda] = test_crossval(clf)\n",
    "    print (klr_scores[lbda])"
   ]
  },
  {
   "cell_type": "markdown",
   "metadata": {},
   "source": [
    "### Substring Kernel"
   ]
  },
  {
   "cell_type": "code",
   "execution_count": 28,
   "metadata": {
    "collapsed": false
   },
   "outputs": [
    {
     "name": "stdout",
     "output_type": "stream",
     "text": [
      "lbda 0.0100 ...\n",
      "[0.688489387591184, 0.7535214855574136, 0.5994857132581684]\n",
      "lbda 0.0010 ...\n",
      "[0.7045054036071999, 0.8244906583229937, 0.6164712616808425]\n",
      "lbda 0.0001 ...\n",
      "[0.7000068931206656, 0.8294971618324912, 0.6180012347677019]\n"
     ]
    }
   ],
   "source": [
    "params = [.01, .001, .0001]\n",
    "klr_scores = {}\n",
    "for lbda in params:\n",
    "    print (\"lbda %.4f ...\" % lbda)\n",
    "    clf = KLR(lbda, kernel='substring_kernel')\n",
    "    klr_scores[lbda] = test_crossval(clf)\n",
    "    print (klr_scores[lbda])"
   ]
  },
  {
   "cell_type": "markdown",
   "metadata": {
    "deletable": true,
    "editable": true
   },
   "source": [
    "## Kaggle submission"
   ]
  },
  {
   "cell_type": "code",
   "execution_count": 43,
   "metadata": {
    "collapsed": false,
    "deletable": true,
    "editable": true
   },
   "outputs": [
    {
     "data": {
      "text/plain": [
       "SVM(kernel=<function spectrum_norm_kernel at 0x7f117452bb70>, lbda=0.0001)"
      ]
     },
     "execution_count": 43,
     "metadata": {},
     "output_type": "execute_result"
    }
   ],
   "source": [
    "def substringKernel_cpp(chainsA, chainsB, lbda=0.1, word_size=4):\n",
    "    chainsA = np.atleast_1d(chainsA)\n",
    "    chainsB = np.atleast_1d(chainsB)\n",
    "    res = subker.getKernel(lbda, word_size, chainsA, chainsB).reshape(\n",
    "        [chainsA.size, chainsB.size])\n",
    "    return np.squeeze(res)"
   ]
  },
  {
   "cell_type": "code",
   "execution_count": 44,
   "metadata": {
    "collapsed": true,
    "deletable": true,
    "editable": true
   },
   "outputs": [],
   "source": [
    "ypreds = [clf1.predict(test_dna[0]), clf2.predict(test_dna[1]), clf3.predict(test_dna[2])]"
   ]
  },
  {
   "cell_type": "code",
   "execution_count": 45,
   "metadata": {
    "collapsed": false,
    "deletable": true,
    "editable": true
   },
   "outputs": [
    {
     "data": {
      "text/html": [
       "<div>\n",
       "<style>\n",
       "    .dataframe thead tr:only-child th {\n",
       "        text-align: right;\n",
       "    }\n",
       "\n",
       "    .dataframe thead th {\n",
       "        text-align: left;\n",
       "    }\n",
       "\n",
       "    .dataframe tbody tr th {\n",
       "        vertical-align: top;\n",
       "    }\n",
       "</style>\n",
       "<table border=\"1\" class=\"dataframe\">\n",
       "  <thead>\n",
       "    <tr style=\"text-align: right;\">\n",
       "      <th></th>\n",
       "      <th>Id</th>\n",
       "      <th>Bound</th>\n",
       "    </tr>\n",
       "  </thead>\n",
       "  <tbody>\n",
       "    <tr>\n",
       "      <th>0</th>\n",
       "      <td>0</td>\n",
       "      <td>0</td>\n",
       "    </tr>\n",
       "    <tr>\n",
       "      <th>1</th>\n",
       "      <td>1</td>\n",
       "      <td>1</td>\n",
       "    </tr>\n",
       "    <tr>\n",
       "      <th>2</th>\n",
       "      <td>2</td>\n",
       "      <td>0</td>\n",
       "    </tr>\n",
       "    <tr>\n",
       "      <th>3</th>\n",
       "      <td>3</td>\n",
       "      <td>0</td>\n",
       "    </tr>\n",
       "    <tr>\n",
       "      <th>4</th>\n",
       "      <td>4</td>\n",
       "      <td>1</td>\n",
       "    </tr>\n",
       "  </tbody>\n",
       "</table>\n",
       "</div>"
      ],
      "text/plain": [
       "   Id  Bound\n",
       "0   0      0\n",
       "1   1      1\n",
       "2   2      0\n",
       "3   3      0\n",
       "4   4      1"
      ]
     },
     "execution_count": 45,
     "metadata": {},
     "output_type": "execute_result"
    }
   ],
   "source": [
    "allpreds = pd.DataFrame(np.atleast_1d(ypreds).flatten(), columns=['Bound'])\n",
    "allpreds.index.name = 'Id'\n",
    "allpreds = allpreds.reset_index()\n",
    "allpreds.head()"
   ]
  },
  {
   "cell_type": "code",
   "execution_count": 46,
   "metadata": {
    "collapsed": true,
    "deletable": true,
    "editable": true
   },
   "outputs": [],
   "source": [
    "allpreds.to_csv('submission_final2.csv', index=False)"
   ]
  }
 ],
 "metadata": {
  "kernelspec": {
   "display_name": "Python 3",
   "language": "python",
   "name": "python3"
  },
  "language_info": {
   "codemirror_mode": {
    "name": "ipython",
    "version": 3
   },
   "file_extension": ".py",
   "mimetype": "text/x-python",
   "name": "python",
   "nbconvert_exporter": "python",
   "pygments_lexer": "ipython3",
   "version": "3.6.4"
  }
 },
 "nbformat": 4,
 "nbformat_minor": 2
}
